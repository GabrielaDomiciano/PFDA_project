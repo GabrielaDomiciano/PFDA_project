{
 "cells": [
  {
   "cell_type": "markdown",
   "metadata": {},
   "source": [
    "# <center>***Exploratory Analysis of Ireland Weather***<center>\n",
    "\n",
    "\n",
    "*********************************\n",
    "\n",
    "\n",
    "![WEATHER](https://i.pinimg.com/564x/1f/8e/8f/1f8e8f16b0be992424f3f5b849706e8b.jpg)"
   ]
  },
  {
   "cell_type": "markdown",
   "metadata": {},
   "source": [
    "##### Author: Gabriela Domiciano Avellar\n",
    "##### Project: Programming for Data Analytics\n",
    "\n"
   ]
  },
  {
   "cell_type": "markdown",
   "metadata": {},
   "source": [
    "\n",
    "## Project: Analysis of Weather Forecast Data in Ireland\n",
    "\n",
    "This project showcases how command-line tools and  scripting, and automation can be utilized to manage and process weather forecast data in Ireland. The data was coleceted from [Historical Data](https://www.met.ie/climate/available-data/historical-data) and  [Today's Weather Athenry](https://data.gov.ie/dataset/todays-weather-athenry), The goal is to understand and analyze forecast data, providing detailed climate insights.\n",
    "\n",
    "\n",
    "******************************"
   ]
  },
  {
   "cell_type": "code",
   "execution_count": 13,
   "metadata": {},
   "outputs": [],
   "source": [
    "# Exploratory Analysis: 'nui_galway.csv'\n",
    "# Import required packages:\n",
    "import pandas as pd\n",
    "import matplotlib.pyplot as plt\n",
    "import numpy as np\n",
    "import seaborn as sns"
   ]
  },
  {
   "cell_type": "code",
   "execution_count": 14,
   "metadata": {},
   "outputs": [
    {
     "name": "stdout",
     "output_type": "stream",
     "text": [
      "       Year  Month  Day  Max (°F)  Min (°F)  Max (°C)  Min (°C)\n",
      "0      1851      1    1       NaN       NaN       NaN       NaN\n",
      "1      1851      1    2       NaN       NaN       NaN       NaN\n",
      "2      1851      1    3       NaN       NaN       NaN       NaN\n",
      "3      1851      1    4       NaN       NaN       NaN       NaN\n",
      "4      1851      1    5       NaN       NaN       NaN       NaN\n",
      "...     ...    ...  ...       ...       ...       ...       ...\n",
      "41937  1965     10   27       NaN       NaN      14.8      12.1\n",
      "41938  1965     10   28       NaN       NaN      13.0       8.6\n",
      "41939  1965     10   29       NaN       NaN      14.0       6.8\n",
      "41940  1965     10   30       NaN       NaN      11.4       9.0\n",
      "41941  1965     10   31       NaN       NaN      14.3       7.0\n",
      "\n",
      "[41942 rows x 7 columns]\n"
     ]
    }
   ],
   "source": [
    "\n",
    "# Let's take a look at the Dataset.\n",
    "nui_df = pd.read_csv('/Users/gabrieladomicianoavellar/Desktop/PFDA_project/data/nui_galway.csv')\n",
    "print(nui_df)"
   ]
  },
  {
   "cell_type": "code",
   "execution_count": 15,
   "metadata": {},
   "outputs": [],
   "source": [
    "# Calculate descriptive statistics, and saves it to a CSV file called 'summary.csv'\n",
    "nui_df.describe().T.to_csv('data/summary.csv')"
   ]
  },
  {
   "cell_type": "markdown",
   "metadata": {},
   "source": [
    "- **Year**: Data covers the period 1851 to 1965.\n",
    "- **Month**: Includes all months.\n",
    "- **Day**: Covers days 1 to 31.\n",
    "- **Max (°F)**: Temperatures range from 4°F to 89°F.\n",
    "- **Min (°F)**: Temperatures range from 11°F to 77°F.\n",
    "- **Max (°C)**: Highs from -15.6°C to 31.7°C.\n",
    "- **Min (°C)**: Lows from -11.7°C to 25.0°C.\n"
   ]
  },
  {
   "cell_type": "code",
   "execution_count": 25,
   "metadata": {},
   "outputs": [
    {
     "name": "stdout",
     "output_type": "stream",
     "text": [
      "The lowest temperature was -11.70°C, registered in the month 1.0 of the year 1945.0.\n"
     ]
    }
   ],
   "source": [
    "\n",
    "Low_df = pd.DataFrame(nui_df)\n",
    "\n",
    "# Removing rows with missing values in the minimum temperature column\n",
    "df_cleaned = Low_df.dropna(subset=[\"Min (°C)\"])\n",
    "\n",
    "# Finding the row with the lowest minimum temperature\n",
    "temp_min_row = df_cleaned.loc[df_cleaned[\"Min (°C)\"].idxmin()]\n",
    "\n",
    "# Resultado\n",
    "lowest_temp_year = temp_min_row[\"Year\"]\n",
    "lowest_temp_month = temp_min_row[\"Month\"]\n",
    "lowest_temp_value_c = temp_min_row[\"Min (°C)\"]\n",
    "\n",
    "print(f\"The lowest temperature was {lowest_temp_value_c:.2f}°C, registered in the month {lowest_temp_month} of the year {lowest_temp_year}.\")\n"
   ]
  },
  {
   "cell_type": "code",
   "execution_count": 26,
   "metadata": {},
   "outputs": [
    {
     "name": "stdout",
     "output_type": "stream",
     "text": [
      "The highest temperature was 15.00°C, registered in the month 7.0 of the year 1921.0.\n"
     ]
    }
   ],
   "source": [
    "Low_df = pd.DataFrame(nui_df)\n",
    "\n",
    "# Removing rows with missing values in the minimum temperature column\n",
    "df_cleaned = Low_df.dropna(subset=[\"Max (°C)\"])\n",
    "\n",
    "# Finding the row with the highest minimum temperature\n",
    "temp_max_row = df_cleaned.loc[df_cleaned[\"Max (°C)\"].idxmax()]\n",
    "\n",
    "# Resultado\n",
    "highest_temp_year = temp_max_row[\"Year\"]\n",
    "highest_temp_month = temp_max_row[\"Month\"]\n",
    "highest_temp_value_c = temp_max_row[\"Min (°C)\"]\n",
    "\n",
    "print(f\"The highest temperature was {highest_temp_value_c:.2f}°C, registered in the month {highest_temp_month} of the year {highest_temp_year}.\")\n"
   ]
  }
 ],
 "metadata": {
  "kernelspec": {
   "display_name": "base",
   "language": "python",
   "name": "python3"
  },
  "language_info": {
   "codemirror_mode": {
    "name": "ipython",
    "version": 3
   },
   "file_extension": ".py",
   "mimetype": "text/x-python",
   "name": "python",
   "nbconvert_exporter": "python",
   "pygments_lexer": "ipython3",
   "version": "3.11.9"
  }
 },
 "nbformat": 4,
 "nbformat_minor": 2
}
