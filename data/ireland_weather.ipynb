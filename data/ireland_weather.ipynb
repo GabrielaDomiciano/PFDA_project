{
 "cells": [
  {
   "cell_type": "markdown",
   "metadata": {},
   "source": [
    "# <center>***Exploratory Analysis of Ireland Weather***<center>\n",
    "\n",
    "\n",
    "*********************************\n",
    "\n",
    "\n",
    "![WEATHER](https://i.pinimg.com/564x/1f/8e/8f/1f8e8f16b0be992424f3f5b849706e8b.jpg)"
   ]
  },
  {
   "cell_type": "markdown",
   "metadata": {},
   "source": [
    "##### Author: Gabriela Domiciano Avellar\n",
    "##### Project: Computer Infrastructure \n",
    "\n"
   ]
  },
  {
   "cell_type": "markdown",
   "metadata": {},
   "source": [
    "\n",
    "This Notebook demonstrates using command-line tools, scripting, and automation to manage and process data. The tasks involved creating directory structures, collecting and timestamping weather data from Today's Weather Athenry(https://data.gov.ie/dataset/todays-weather-athenry), and automating the process using Bash scripts.\n",
    "\n",
    "The final step integrated GitHub Actions to schedule daily weather data collection and push updates to a GitHub repository.\n",
    "\n",
    "******************************"
   ]
  },
  {
   "cell_type": "markdown",
   "metadata": {},
   "source": [
    "### This notebook contains my analysis of the Palmer Penguins Dataset.\n",
    "##### Author: Gabriela Domiciano Avellar\n",
    "##### Project:  Principles of Data Analytics\n",
    "\n",
    "\n",
    "You can find the data set [on GitHub](https://allisonhorst.github.io/palmerpenguins/).\n",
    "Data were collected and made available by [Kristen Gorman](https://www.uaf.edu/cfos/people/faculty/detail/kristen-gorman.php) and the [Palmer Station, Antarctica LTER](https://pallter.marine.rutgers.edu), a member of the [Long Term Ecological Research Network](https://lternet.edu)\n",
    "\n",
    "\n",
    "\n",
    "This dataset contains information about 3 different species of penguins and was collected from 3 different islands in the Palmer Archipelago in Antarctica. The data contains characteristics of the penguins, bill length, bill depth, flipper length, body mass, sex, island name, and species name.\n",
    "To develop the project and analyze the database, I used the following as a reference:\n",
    "\n",
    "- Classes we had over the semester, the code used as reference [Professor Ian McLoughlin Git Hub](https://github.com/ianmcloughlin/mywork/blob/main/iris.ipynb)\n",
    "- Python Plotting With Matplotlib [Real Python](https://realpython.com/python-matplotlib-guide/#understanding-pltsubplots-notation)\n",
    "- [Matplotlib](https://matplotlib.org/3.5.3/api/_as_gen/matplotlib.pyplot.html)\n",
    "- [GitHub Docs](https://docs.github.com/en/repositories/managing-your-repositorys-settings-and-features/customizing-your-repository/about-readmes)\n",
    "- I used the ChatGpt to help understand some codes, asking to explain in simple ways.\n",
    "- Information about de [Palmer Penguins](https://allisonhorst.github.io/palmerpenguins/articles/intro.html).\n",
    "- Following YouTube videos I watched in Portuguese, if you want to watch them, you can enable the subtitles:\n",
    "  - [Hastag Programacao](https://www.youtube.com/watch?v=kCMaqla6Grs)\n",
    "  - [Hastag Programacao](https://www.youtube.com/watch?v=FDU-D8ddTU4)\n"
   ]
  }
 ],
 "metadata": {
  "language_info": {
   "name": "python"
  }
 },
 "nbformat": 4,
 "nbformat_minor": 2
}
